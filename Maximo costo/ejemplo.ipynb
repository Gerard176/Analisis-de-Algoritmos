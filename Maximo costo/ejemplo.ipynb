{
 "cells": [
  {
   "cell_type": "code",
   "execution_count": 78,
   "id": "9f3344ea",
   "metadata": {
    "ExecuteTime": {
     "end_time": "2023-03-24T02:38:37.927403Z",
     "start_time": "2023-03-24T02:38:37.870722Z"
    }
   },
   "outputs": [
    {
     "data": {
      "text/html": [
       "<div>\n",
       "<style scoped>\n",
       "    .dataframe tbody tr th:only-of-type {\n",
       "        vertical-align: middle;\n",
       "    }\n",
       "\n",
       "    .dataframe tbody tr th {\n",
       "        vertical-align: top;\n",
       "    }\n",
       "\n",
       "    .dataframe thead th {\n",
       "        text-align: right;\n",
       "    }\n",
       "</style>\n",
       "<table border=\"1\" class=\"dataframe\">\n",
       "  <thead>\n",
       "    <tr style=\"text-align: right;\">\n",
       "      <th></th>\n",
       "      <th>0</th>\n",
       "      <th>1</th>\n",
       "      <th>2</th>\n",
       "      <th>3</th>\n",
       "      <th>4</th>\n",
       "      <th>5</th>\n",
       "      <th>6</th>\n",
       "      <th>7</th>\n",
       "      <th>8</th>\n",
       "      <th>9</th>\n",
       "      <th>...</th>\n",
       "      <th>40</th>\n",
       "      <th>41</th>\n",
       "      <th>42</th>\n",
       "      <th>43</th>\n",
       "      <th>44</th>\n",
       "      <th>45</th>\n",
       "      <th>46</th>\n",
       "      <th>47</th>\n",
       "      <th>48</th>\n",
       "      <th>49</th>\n",
       "    </tr>\n",
       "  </thead>\n",
       "  <tbody>\n",
       "    <tr>\n",
       "      <th>0</th>\n",
       "      <td>19</td>\n",
       "      <td>61</td>\n",
       "      <td>29</td>\n",
       "      <td>89</td>\n",
       "      <td>7</td>\n",
       "      <td>97</td>\n",
       "      <td>56</td>\n",
       "      <td>87</td>\n",
       "      <td>5</td>\n",
       "      <td>41</td>\n",
       "      <td>...</td>\n",
       "      <td>25</td>\n",
       "      <td>39</td>\n",
       "      <td>49</td>\n",
       "      <td>99</td>\n",
       "      <td>35</td>\n",
       "      <td>51</td>\n",
       "      <td>1</td>\n",
       "      <td>69</td>\n",
       "      <td>43</td>\n",
       "      <td>58</td>\n",
       "    </tr>\n",
       "  </tbody>\n",
       "</table>\n",
       "<p>1 rows × 50 columns</p>\n",
       "</div>"
      ],
      "text/plain": [
       "   0   1   2   3   4   5   6   7   8   9   ...  40  41  42  43  44  45  46  \\\n",
       "0  19  61  29  89   7  97  56  87   5  41  ...  25  39  49  99  35  51   1   \n",
       "\n",
       "   47  48  49  \n",
       "0  69  43  58  \n",
       "\n",
       "[1 rows x 50 columns]"
      ]
     },
     "execution_count": 78,
     "metadata": {},
     "output_type": "execute_result"
    }
   ],
   "source": [
    "import warnings\n",
    "warnings.filterwarnings(\"ignore\")\n",
    "\n",
    "# importing libraries\n",
    "import numpy as np\n",
    "import pandas as pd\n",
    "\n",
    "#cambiar la ruta de su archivo csv\n",
    "#data=pd.read_excel(\"//Volumes//MacSSD//Users//alex//vector1.xlsx\", sheet_name='vector1', index_col=None, header=None)\n",
    "data=pd.read_csv(\"//Volumes//MacSSD//Users//alex//vector1.csv\", encoding ='ISO-8859-1', index_col=None, header=None)\n",
    "#data=pd.DataFrame([19, 61, 29, 89, 7, 97, 56, 87, 5, 41, 46, 67, 98, 32, 13, 44, 6, 20, 24, 42, 73, 91, 53, 64, 78, 22, 90, 45, 54, 77, 96, 88, 50, 36, 37, 71, 57, 81, 55, 3, 25, 39, 49, 99, 35, 51, 1, 69, 43, 58])\n",
    "#mostrar\n",
    "data\n",
    "\n",
    "#print(data)\n",
    "#print(data.T)"
   ]
  },
  {
   "cell_type": "code",
   "execution_count": 79,
   "id": "ad632363",
   "metadata": {
    "ExecuteTime": {
     "end_time": "2023-03-24T02:39:03.853044Z",
     "start_time": "2023-03-24T02:39:03.804206Z"
    }
   },
   "outputs": [
    {
     "data": {
      "text/html": [
       "<div>\n",
       "<style scoped>\n",
       "    .dataframe tbody tr th:only-of-type {\n",
       "        vertical-align: middle;\n",
       "    }\n",
       "\n",
       "    .dataframe tbody tr th {\n",
       "        vertical-align: top;\n",
       "    }\n",
       "\n",
       "    .dataframe thead th {\n",
       "        text-align: right;\n",
       "    }\n",
       "</style>\n",
       "<table border=\"1\" class=\"dataframe\">\n",
       "  <thead>\n",
       "    <tr style=\"text-align: right;\">\n",
       "      <th></th>\n",
       "      <th>0</th>\n",
       "      <th>1</th>\n",
       "      <th>2</th>\n",
       "      <th>3</th>\n",
       "      <th>4</th>\n",
       "      <th>5</th>\n",
       "      <th>6</th>\n",
       "      <th>7</th>\n",
       "      <th>8</th>\n",
       "      <th>9</th>\n",
       "      <th>...</th>\n",
       "      <th>40</th>\n",
       "      <th>41</th>\n",
       "      <th>42</th>\n",
       "      <th>43</th>\n",
       "      <th>44</th>\n",
       "      <th>45</th>\n",
       "      <th>46</th>\n",
       "      <th>47</th>\n",
       "      <th>48</th>\n",
       "      <th>49</th>\n",
       "    </tr>\n",
       "  </thead>\n",
       "  <tbody>\n",
       "    <tr>\n",
       "      <th>0</th>\n",
       "      <td>999</td>\n",
       "      <td>999</td>\n",
       "      <td>29</td>\n",
       "      <td>89</td>\n",
       "      <td>7</td>\n",
       "      <td>97</td>\n",
       "      <td>56</td>\n",
       "      <td>87</td>\n",
       "      <td>5</td>\n",
       "      <td>41</td>\n",
       "      <td>...</td>\n",
       "      <td>25</td>\n",
       "      <td>39</td>\n",
       "      <td>49</td>\n",
       "      <td>99</td>\n",
       "      <td>35</td>\n",
       "      <td>51</td>\n",
       "      <td>1</td>\n",
       "      <td>69</td>\n",
       "      <td>43</td>\n",
       "      <td>58</td>\n",
       "    </tr>\n",
       "  </tbody>\n",
       "</table>\n",
       "<p>1 rows × 50 columns</p>\n",
       "</div>"
      ],
      "text/plain": [
       "    0    1   2   3   4   5   6   7   8   9   ...  40  41  42  43  44  45  46  \\\n",
       "0  999  999  29  89   7  97  56  87   5  41  ...  25  39  49  99  35  51   1   \n",
       "\n",
       "   47  48  49  \n",
       "0  69  43  58  \n",
       "\n",
       "[1 rows x 50 columns]"
      ]
     },
     "execution_count": 79,
     "metadata": {},
     "output_type": "execute_result"
    }
   ],
   "source": [
    "data.iloc[0,0]=999\n",
    "data.iloc[0,1]=999\n",
    "data\n",
    "\n",
    "#print(data)\n",
    "#print(data.T)\n"
   ]
  },
  {
   "cell_type": "code",
   "execution_count": 239,
   "id": "e4aa07a1",
   "metadata": {
    "ExecuteTime": {
     "end_time": "2023-03-23T23:00:58.815830Z",
     "start_time": "2023-03-23T23:00:58.811615Z"
    }
   },
   "outputs": [],
   "source": [
    "#https://www.freecodecamp.org/espanol/news/eliminar-la-lista-de-filas-del-dataframe-de-pandas/\n",
    "#index - la lista de filas a eliminar\n",
    "#axis=0 denota que son filas lo que hay que eliminar\n",
    "#inplace=True realiza la operación sobre el mismo DataFrame\n",
    "#data.drop([1], axis=1, inplace=True)\n",
    "\n",
    "#eliminar columnas\n",
    "#del(data['19'])\n",
    "\n",
    "#data.drop(['19'], axis = 'columns', inplace=True)\n",
    "\n",
    "#eliminar por indice MO FUNCIONa\n",
    "#data = data.drop([0, 1])\n",
    "\n",
    "#data = data.drop(columns=['19'], inplace=True)"
   ]
  },
  {
   "cell_type": "code",
   "execution_count": 240,
   "id": "543da5ad",
   "metadata": {
    "ExecuteTime": {
     "end_time": "2023-03-23T23:00:59.559910Z",
     "start_time": "2023-03-23T23:00:59.555544Z"
    }
   },
   "outputs": [],
   "source": [
    "#data.to_numpy().tolist() #.transpose() #tolist()\n",
    "\n",
    "#dataframe a lista\n",
    "#data.to_numpy().tolist()\n",
    "\n",
    "#lista a dataframe\n",
    "#df_list = data.to_numpy().tolist()\n",
    "#columns_names = data.columns.values\n",
    "#pd.DataFrame(df_list, columns=columns_names)\n",
    "\n",
    "#data.dtypes\n",
    "#print(data)"
   ]
  },
  {
   "cell_type": "code",
   "execution_count": 57,
   "id": "68c7d76e",
   "metadata": {
    "ExecuteTime": {
     "end_time": "2023-03-24T02:30:23.813333Z",
     "start_time": "2023-03-24T02:30:23.807942Z"
    }
   },
   "outputs": [],
   "source": [
    "#https://pandas.pydata.org/docs/reference/api/pandas.DataFrame.iloc.html\n",
    "\n",
    "#data['tmp2'] = True\n",
    "#data = data.replace('1','999')\n",
    "#data = data.replace(['19'],'1')\n",
    "#data = data.replace(['tmp'],'1')\n",
    "#data.drop(['tmp2'], axis = 'columns', inplace=True)\n",
    "\n",
    "#data.iloc[0,0]=1\n",
    "#data.iloc[0,46]=19\n",
    "#print(data)\n",
    "\n",
    "#print(data.iat[0,1])\n",
    "#print(data.iloc[0,1])\n",
    "\n",
    "#print(data)"
   ]
  },
  {
   "cell_type": "code",
   "execution_count": null,
   "id": "b67033b7",
   "metadata": {},
   "outputs": [],
   "source": []
  }
 ],
 "metadata": {
  "kernelspec": {
   "display_name": "Python 3",
   "language": "python",
   "name": "python3"
  },
  "language_info": {
   "codemirror_mode": {
    "name": "ipython",
    "version": 3
   },
   "file_extension": ".py",
   "mimetype": "text/x-python",
   "name": "python",
   "nbconvert_exporter": "python",
   "pygments_lexer": "ipython3",
   "version": "3.7.6"
  },
  "toc": {
   "base_numbering": 1,
   "nav_menu": {},
   "number_sections": true,
   "sideBar": true,
   "skip_h1_title": false,
   "title_cell": "Table of Contents",
   "title_sidebar": "Contents",
   "toc_cell": false,
   "toc_position": {},
   "toc_section_display": true,
   "toc_window_display": false
  }
 },
 "nbformat": 4,
 "nbformat_minor": 5
}
